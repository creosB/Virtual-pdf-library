{
 "cells": [
  {
   "cell_type": "markdown",
   "metadata": {},
   "source": [
    "#  Qt Demo\n",
    "\n",
    "This will launch various Qt compatible packages\n",
    "\n",
    "Nota: as of 2019-05-26th, PySide2-5.13+ compatibility is\n",
    " - Ok for Qtconsole, Qtpy, pyzo, wppm, PyQtgraph, rx\n",
    " - ToDo for Spyder, guidata, guiqwt\n"
   ]
  },
  {
   "cell_type": "markdown",
   "metadata": {},
   "source": [
    "## Qt4 & Qt5 Dedicated Graphic libraries: PyQtgraph, guidata, guiqwt"
   ]
  },
  {
   "cell_type": "code",
   "execution_count": null,
   "metadata": {},
   "outputs": [],
   "source": [
    "# PyQtgraph (Scientific Graphics and GUI Library for Python)\n",
    "import pyqtgraph.examples; pyqtgraph.examples.run()"
   ]
  },
  {
   "cell_type": "code",
   "execution_count": null,
   "metadata": {},
   "outputs": [],
   "source": [
    "# Guidata (Python library generating graphical user interfaces for easy dataset editing and display)\n",
    "from guidata import tests; tests.run()"
   ]
  },
  {
   "cell_type": "code",
   "execution_count": null,
   "metadata": {},
   "outputs": [],
   "source": [
    "# Guiqwt (Efficient 2D plotting Python library based on PythonQwt)\n",
    "from guiqwt import tests; tests.run()"
   ]
  },
  {
   "cell_type": "code",
   "execution_count": null,
   "metadata": {},
   "outputs": [],
   "source": [
    "#QtDemo (if present)\n",
    "!if exist \"%WINPYDIR%\\Lib\\site-packages\\PyQt5\\examples\\qtdemo\\qtdemo.py\"  \"%WINPYDIR%\\python.exe\" \"%WINPYDIR%\\Lib\\site-packages\\PyQt5\\examples\\qtdemo\\qtdemo.py\"\n",
    "!if exist \"%WINPYDIR%\\Lib\\site-packages\\PyQt4\\examples\\demos\\qtdemo\\qtdemo.pyw\"\"%WINPYDIR%\\pythonw.exe\" \"%WINPYDIR%\\Lib\\site-packages\\PyQt4\\examples\\demos\\qtdemo\\qtdemo.pyw\"\n",
    "!if exist \"%WINPYDIR%\\Lib\\site-packages\\PySide2\\examples\\datavisualization\" \"%WINPYDIR%\\python.exe\" \"%WINPYDIR%\\Lib\\site-packages\\PySide2\\examples\\datavisualization\\bars3d.py\"\n"
   ]
  },
  {
   "cell_type": "markdown",
   "metadata": {},
   "source": [
    "## Reactive programing: rx"
   ]
  },
  {
   "cell_type": "code",
   "execution_count": null,
   "metadata": {},
   "outputs": [],
   "source": [
    "# from https://github.com/ReactiveX/RxPY/blob/master/examples/timeflie\n",
    "import sys\n",
    "\n",
    "import rx\n",
    "from rx import operators as ops\n",
    "from rx.subjects import Subject\n",
    "from rx.concurrency.mainloopscheduler import QtScheduler\n",
    "\n",
    "try:\n",
    "    from PyQt5 import QtCore\n",
    "    from PyQt5.QtWidgets import QApplication, QWidget, QLabel\n",
    "except ImportError:\n",
    "    try:\n",
    "        from PySide2 import QtCore\n",
    "        from PySide2.QtWidgets import QApplication, QLabel, QWidget\n",
    "    except ImportError:\n",
    "        raise ImportError('Please ensure either PyQT5 or PySide2 is available!')\n",
    "\n",
    "\n",
    "class Window(QWidget):\n",
    "\n",
    "    def __init__(self):\n",
    "        QWidget.__init__(self)\n",
    "        self.setWindowTitle(\"Rx for Python rocks\")\n",
    "        self.resize(600, 600)\n",
    "        self.setMouseTracking(True)\n",
    "\n",
    "        # This Subject is used to transmit mouse moves to labels\n",
    "        self.mousemove = Subject()\n",
    "\n",
    "    def mouseMoveEvent(self, event):\n",
    "        self.mousemove.on_next((event.x(), event.y()))\n",
    "\n",
    "\n",
    "def main():\n",
    "    app = QApplication(sys.argv)\n",
    "    scheduler = QtScheduler(QtCore)\n",
    "\n",
    "    window = Window()\n",
    "    window.show()\n",
    "\n",
    "    text = 'TIME FLIES LIKE AN ARROW'\n",
    "\n",
    "    def on_next(info):\n",
    "        label, (x, y), i = info\n",
    "        label.move(x + i*12 + 15, y)\n",
    "        label.show()\n",
    "\n",
    "    def handle_label(label, i):\n",
    "        delayer = ops.delay(i * 0.100)\n",
    "        mapper = ops.map(lambda xy: (label, xy, i))\n",
    "\n",
    "        return window.mousemove.pipe(\n",
    "            delayer,\n",
    "            mapper,\n",
    "            )\n",
    "\n",
    "    labeler = ops.flat_map_indexed(handle_label)\n",
    "    mapper = ops.map(lambda c: QLabel(c, window))\n",
    "\n",
    "    rx.from_(text).pipe(\n",
    "        mapper,\n",
    "        labeler,\n",
    "    ).subscribe(on_next, on_error=print, scheduler=scheduler)\n",
    "\n",
    "    sys.exit(app.exec_())\n",
    "\n",
    "\n",
    "if __name__ == '__main__':\n",
    "    main()"
   ]
  },
  {
   "cell_type": "code",
   "execution_count": null,
   "metadata": {},
   "outputs": [],
   "source": [
    "!pip download --dest  C:\\WinP\\a QtPy"
   ]
  },
  {
   "cell_type": "code",
   "execution_count": null,
   "metadata": {},
   "outputs": [],
   "source": []
  }
 ],
 "metadata": {
  "kernelspec": {
   "display_name": "Python 3",
   "language": "python",
   "name": "python3"
  },
  "language_info": {
   "codemirror_mode": {
    "name": "ipython",
    "version": 3
   },
   "file_extension": ".py",
   "mimetype": "text/x-python",
   "name": "python",
   "nbconvert_exporter": "python",
   "pygments_lexer": "ipython3",
   "version": "3.7.3"
  },
  "widgets": {
   "state": {},
   "version": "1.1.2"
  }
 },
 "nbformat": 4,
 "nbformat_minor": 1
}
