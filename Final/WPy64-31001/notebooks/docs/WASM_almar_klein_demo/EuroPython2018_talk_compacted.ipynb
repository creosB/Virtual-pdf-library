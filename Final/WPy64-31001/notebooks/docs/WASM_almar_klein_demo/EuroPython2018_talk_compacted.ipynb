{
 "cells": [
  {
   "cell_type": "markdown",
   "metadata": {
    "slideshow": {
     "slide_type": "slide"
    }
   },
   "source": [
    "# Let’s embrace WebAssembly!\n",
    "\n",
    "[Presentation made at EuroPython 2018 - Edinburgh (by Almar Klein)](https://www.youtube.com/watch?v=u2kKxmb9BWs&index=18&list=PL8uoeex94UhFrNUV2m5MigREebUms39U5)\n",
    "\n",
    "This Notebook is:\n",
    "- a compacted version of original https://github.com/almarklein/rocket_rust_py\n",
    "- best seen in RISE mode: <center><img src='images/start_rise_mode.png' width=800px></center>\n",
    "\n"
   ]
  },
  {
   "cell_type": "markdown",
   "metadata": {
    "slideshow": {
     "slide_type": "slide"
    }
   },
   "source": [
    "\n",
    "# WASM has a compact binary format\n",
    "\n",
    "\n",
    "\n",
    "#### And a human readable counterpart:\n",
    "\n",
    "```wasm\n",
    "(module\n",
    "    (type $print (func (param i32))\n",
    "    (func $main\n",
    "        (i32.const 42)\n",
    "        (call $print)\n",
    "    )\n",
    "    (start $main)\n",
    ")\n",
    "```"
   ]
  },
  {
   "cell_type": "markdown",
   "metadata": {
    "slideshow": {
     "slide_type": "slide"
    }
   },
   "source": [
    "\n",
    "# It's safe\n",
    "\n",
    "\n",
    "Because browsers."
   ]
  },
  {
   "cell_type": "markdown",
   "metadata": {
    "slideshow": {
     "slide_type": "slide"
    }
   },
   "source": [
    "# Use case 1: Compile a subset of Python to WASM"
   ]
  },
  {
   "cell_type": "markdown",
   "metadata": {
    "slideshow": {
     "slide_type": "slide"
    }
   },
   "source": [
    "<center><img src='images/pysnippet_to_wasm.png' width=800px></center>"
   ]
  },
  {
   "cell_type": "code",
   "execution_count": null,
   "metadata": {
    "slideshow": {
     "slide_type": "slide"
    }
   },
   "outputs": [],
   "source": [
    "# in RISE mode, click <Shift>+<Enter> to execute a cell\n",
    "def find_prime(nth):\n",
    "    n = 0\n",
    "    i = -1       \n",
    "    while n < nth:\n",
    "        i = i + 1        \n",
    "        if i <= 1:\n",
    "            continue  # nope\n",
    "        elif i == 2:\n",
    "            n = n + 1\n",
    "        else:\n",
    "            gotit = 1\n",
    "            for j in range(2,  i//2+1):\n",
    "                if i % j == 0:\n",
    "                    gotit = 0\n",
    "                    break\n",
    "            if gotit == 1:\n",
    "                n = n + 1    \n",
    "    return i"
   ]
  },
  {
   "cell_type": "code",
   "execution_count": null,
   "metadata": {
    "slideshow": {
     "slide_type": "-"
    }
   },
   "outputs": [],
   "source": [
    "%time find_prime(1000)"
   ]
  },
  {
   "cell_type": "markdown",
   "metadata": {
    "slideshow": {
     "slide_type": "slide"
    }
   },
   "source": [
    "# Compiling 'find_prime()' to  WASM\n"
   ]
  },
  {
   "cell_type": "markdown",
   "metadata": {
    "slideshow": {
     "slide_type": "fragment"
    }
   },
   "source": [
    "Note: \n",
    "\n",
    "* The python-to-wasm compiler is just a POC!\n",
    "* Assumes a (reliable) wasm-to-native compiler"
   ]
  },
  {
   "cell_type": "code",
   "execution_count": null,
   "metadata": {
    "slideshow": {
     "slide_type": "slide"
    }
   },
   "outputs": [],
   "source": [
    "# in RISE mode, click <Shift>+<Enter> to execute a cell\n",
    "from ppci import wasm"
   ]
  },
  {
   "cell_type": "code",
   "execution_count": null,
   "metadata": {
    "slideshow": {
     "slide_type": "-"
    }
   },
   "outputs": [],
   "source": [
    "from ppci.lang.python import python_to_wasm\n",
    "\n",
    "def main():\n",
    "    print(find_prime(1000))\n",
    "\n",
    "m = python_to_wasm(main, find_prime)"
   ]
  },
  {
   "cell_type": "code",
   "execution_count": null,
   "metadata": {
    "slideshow": {
     "slide_type": "slide"
    }
   },
   "outputs": [],
   "source": [
    "# WASM (somewhat) readable machine code\n",
    "m.show()"
   ]
  },
  {
   "cell_type": "code",
   "execution_count": null,
   "metadata": {
    "slideshow": {
     "slide_type": "slide"
    }
   },
   "outputs": [],
   "source": [
    "# WASM binary format\n",
    "m.show_bytes()"
   ]
  },
  {
   "cell_type": "code",
   "execution_count": null,
   "metadata": {
    "slideshow": {
     "slide_type": "slide"
    }
   },
   "outputs": [],
   "source": [
    "# WASM interface\n",
    "m.show_interface()"
   ]
  },
  {
   "cell_type": "markdown",
   "metadata": {
    "slideshow": {
     "slide_type": "slide"
    }
   },
   "source": [
    "# Run in Browser \n"
   ]
  },
  {
   "cell_type": "code",
   "execution_count": null,
   "metadata": {
    "slideshow": {
     "slide_type": "-"
    }
   },
   "outputs": [],
   "source": [
    "wasm.run_wasm_in_notebook(m)"
   ]
  },
  {
   "cell_type": "markdown",
   "metadata": {
    "slideshow": {
     "slide_type": "slide"
    }
   },
   "source": [
    "# Run in NodeJS\n"
   ]
  },
  {
   "cell_type": "code",
   "execution_count": null,
   "metadata": {
    "slideshow": {
     "slide_type": "-"
    }
   },
   "outputs": [],
   "source": [
    "wasm.run_wasm_in_node(m)"
   ]
  },
  {
   "cell_type": "markdown",
   "metadata": {
    "slideshow": {
     "slide_type": "slide"
    }
   },
   "source": [
    "# Compile 'find_prime()' to WASM then to Machine code"
   ]
  },
  {
   "cell_type": "code",
   "execution_count": null,
   "metadata": {
    "slideshow": {
     "slide_type": "slide"
    }
   },
   "outputs": [],
   "source": [
    "# this doesn't currently work on a Python 32 bit, when run on a Windows 64 bit\n",
    "@wasm.wasmify\n",
    "def find_prime2(nth):\n",
    "    n = 0\n",
    "    i = -1       \n",
    "    while n < nth:\n",
    "        i = i + 1        \n",
    "        if i <= 1:\n",
    "            continue  # nope\n",
    "        elif i == 2:\n",
    "            n = n + 1\n",
    "        else:\n",
    "            gotit = 1\n",
    "            for j in range(2,  i//2+1):\n",
    "                if i % j == 0:\n",
    "                    gotit = 0\n",
    "                    break\n",
    "            if gotit == 1:\n",
    "                n = n + 1    \n",
    "    return i"
   ]
  },
  {
   "cell_type": "code",
   "execution_count": null,
   "metadata": {
    "slideshow": {
     "slide_type": "-"
    }
   },
   "outputs": [],
   "source": [
    "%time find_prime2(1000)"
   ]
  },
  {
   "cell_type": "markdown",
   "metadata": {
    "slideshow": {
     "slide_type": "slide"
    }
   },
   "source": [
    "# Use case 2: Python as a platform to bind and run WASM modules\n",
    "    \n",
    "... and allow that code to call into Python functions"
   ]
  },
  {
   "cell_type": "markdown",
   "metadata": {
    "slideshow": {
     "slide_type": "-"
    }
   },
   "source": [
    "<center><img src='images/py_as_platform.png' width=700px></center>"
   ]
  },
  {
   "cell_type": "markdown",
   "metadata": {
    "slideshow": {
     "slide_type": "slide"
    }
   },
   "source": [
    "# the Rocket game from [github.com/aochagavia](https://github.com/aochagavia/rocket_wasm)\n",
    "\n",
    "<center>\n",
    "    <!-- <a href='https://thread-safe.nl/rocket/' target='new'> -->\n",
    "    <a href='rocket.html' target='new'>\n",
    "    <img src='images/github_rocket_wasm.png' width=900>\n",
    "    </a>\n",
    "</center>"
   ]
  },
  {
   "cell_type": "markdown",
   "metadata": {
    "slideshow": {
     "slide_type": "slide"
    }
   },
   "source": [
    "# The rocket game is in a single binary WASM file (58 KB)\n",
    "\n",
    "<center>    \n",
    "    <img src='images/github_rocket_wasm_html.png' width=600>\n",
    "</center>\n",
    "<center>\n",
    "<img src='images/rocketgame.png' width=800>\n",
    "</center>"
   ]
  },
  {
   "cell_type": "code",
   "execution_count": null,
   "metadata": {
    "slideshow": {
     "slide_type": "slide"
    }
   },
   "outputs": [],
   "source": [
    "from ppci import wasm\n",
    "\n",
    "m = wasm.Module(open(r'wasm/rocket.wasm', 'rb'))\n",
    "m"
   ]
  },
  {
   "cell_type": "code",
   "execution_count": null,
   "metadata": {
    "slideshow": {
     "slide_type": "-"
    }
   },
   "outputs": [],
   "source": [
    "m.show_interface()"
   ]
  },
  {
   "cell_type": "markdown",
   "metadata": {
    "slideshow": {
     "slide_type": "slide"
    }
   },
   "source": [
    "### rocket wasm controlled per javascript\n",
    "<center>\n",
    "<img src='images/rocket_in_js.png' width=800>\n",
    "</center>"
   ]
  },
  {
   "cell_type": "markdown",
   "metadata": {
    "slideshow": {
     "slide_type": "slide"
    }
   },
   "source": [
    "### abstract of rocket.html file\n",
    "<center>\n",
    "<img src='images/github_rocket_wasm_js.png' width=1000>\n",
    "</center>"
   ]
  },
  {
   "cell_type": "markdown",
   "metadata": {
    "slideshow": {
     "slide_type": "slide"
    }
   },
   "source": [
    "### same rocket wasm controlled per python\n",
    "<center>\n",
    "<img src='images/rocket_in_py.png' width=800>\n",
    "</center>"
   ]
  },
  {
   "cell_type": "code",
   "execution_count": null,
   "metadata": {
    "slideshow": {
     "slide_type": "slide"
    }
   },
   "outputs": [],
   "source": [
    "# abstract of rocket_qt.py (do not run)\n",
    "class PythonRocketGame:\n",
    "    \n",
    "    # ...\n",
    "    \n",
    "    def wasm_sin(self, a:float) -> float:\n",
    "        return math.sin(a)\n",
    "    \n",
    "    def wasm_cos(self, a:float) -> float:\n",
    "        return math.cos(a)\n",
    "    \n",
    "    def wasm_Math_atan(self, a:float) -> float:\n",
    "        return math.atan(a)\n",
    "    \n",
    "    def wasm_clear_screen(self) -> None:\n",
    "        # ...\n",
    "    \n",
    "    def wasm_draw_bullet(self, x:float, y:float) -> None:\n",
    "        # ...\n",
    "    \n",
    "    def wasm_draw_enemy(self, x:float, y:float) -> None:\n",
    "        # ...\n",
    "    \n",
    "    def wasm_draw_particle(self, x:float, y:float, a:float) -> None:\n",
    "        # ...\n",
    "    \n",
    "    def wasm_draw_player(self, x:float, y:float, a:float) -> None:\n",
    "       # ...\n",
    "    \n",
    "    def wasm_draw_score(self, score:float) -> None:\n",
    "        # ..."
   ]
  },
  {
   "cell_type": "markdown",
   "metadata": {
    "slideshow": {
     "slide_type": "slide"
    }
   },
   "source": [
    "# Run Rocket in Python with Qt\n",
    "\n"
   ]
  },
  {
   "cell_type": "code",
   "execution_count": null,
   "metadata": {
    "slideshow": {
     "slide_type": "-"
    }
   },
   "outputs": [],
   "source": [
    "from rocket_qt import QtRocketGame\n",
    "game = QtRocketGame()"
   ]
  },
  {
   "cell_type": "code",
   "execution_count": null,
   "metadata": {},
   "outputs": [],
   "source": [
    "# you may have to switch to the QT window appearing on the side of your browser session\n",
    "game.run()"
   ]
  },
  {
   "cell_type": "markdown",
   "metadata": {
    "slideshow": {
     "slide_type": "slide"
    }
   },
   "source": [
    "# This game is not that hard to play ..."
   ]
  },
  {
   "cell_type": "markdown",
   "metadata": {
    "slideshow": {
     "slide_type": "fragment"
    }
   },
   "source": [
    "## Let's make an AI!"
   ]
  },
  {
   "cell_type": "markdown",
   "metadata": {
    "slideshow": {
     "slide_type": "fragment"
    }
   },
   "source": [
    "#### Game in rust compiled in WASM\n",
    "#### AI in C compiled in WASM\n",
    "#### Glue in Python"
   ]
  },
  {
   "cell_type": "code",
   "execution_count": null,
   "metadata": {
    "slideshow": {
     "slide_type": "slide"
    }
   },
   "outputs": [],
   "source": [
    "# let's write the AI in C\n",
    "print(open('wasm/ai2.c', 'rt').read())"
   ]
  },
  {
   "cell_type": "code",
   "execution_count": null,
   "metadata": {
    "slideshow": {
     "slide_type": "slide"
    }
   },
   "outputs": [],
   "source": [
    "# use https://wasdk.github.io/WasmFiddle/ to convert ai.c in ai2.wasm\n",
    "from ppci import wasm\n",
    "ai2 = wasm.Module(open('wasm/ai2.wasm', 'rb'))"
   ]
  },
  {
   "cell_type": "code",
   "execution_count": null,
   "metadata": {},
   "outputs": [],
   "source": [
    "ai2.show_interface()"
   ]
  },
  {
   "cell_type": "code",
   "execution_count": null,
   "metadata": {
    "slideshow": {
     "slide_type": "-"
    }
   },
   "outputs": [],
   "source": [
    "from rocket_ai import AiRocketGame\n",
    "game = AiRocketGame(ai2)\n",
    "game.run()"
   ]
  },
  {
   "cell_type": "markdown",
   "metadata": {
    "slideshow": {
     "slide_type": "slide"
    }
   },
   "source": [
    "\n",
    "# Wrapping up ..."
   ]
  },
  {
   "cell_type": "markdown",
   "metadata": {
    "slideshow": {
     "slide_type": "slide"
    }
   },
   "source": [
    "## WASM is coming, and its awesome!\n",
    "\n",
    "\n",
    "<img src='images/wasm.png' width=150 align=right>\n",
    "\n",
    "* Open, low-level, fast, compact and safe\n",
    "* Already works in most browsers\n",
    "* Not limited to the web\n",
    "\n"
   ]
  },
  {
   "cell_type": "markdown",
   "metadata": {
    "slideshow": {
     "slide_type": "fragment"
    }
   },
   "source": [
    "<img src='images/python.png' width=150 align=right>\n",
    "\n",
    "## We Pythonista's should embrace it!\n",
    "\n",
    "* E.g. run a Python VM in the browser\n",
    "* E.g. compile subset of Python to fast, crossplatform code\n",
    "* E.g. use Python as a platform to bind and execute WASM modules"
   ]
  },
  {
   "cell_type": "markdown",
   "metadata": {
    "slideshow": {
     "slide_type": "fragment"
    }
   },
   "source": [
    "## Thanks!"
   ]
  }
 ],
 "metadata": {
  "anaconda-cloud": {},
  "celltoolbar": "Slideshow",
  "kernelspec": {
   "display_name": "Python 3",
   "language": "python",
   "name": "python3"
  },
  "language_info": {
   "codemirror_mode": {
    "name": "ipython",
    "version": 3
   },
   "file_extension": ".py",
   "mimetype": "text/x-python",
   "name": "python",
   "nbconvert_exporter": "python",
   "pygments_lexer": "ipython3",
   "version": "3.6.6"
  }
 },
 "nbformat": 4,
 "nbformat_minor": 2
}
