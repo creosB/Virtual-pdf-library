{
 "cells": [
  {
   "cell_type": "markdown",
   "metadata": {
    "slideshow": {
     "slide_type": "slide"
    }
   },
   "source": [
    "# Let’s embrace WebAssembly!\n",
    "\n",
    "[Presentation made at EuroPython 2018 - Edinburgh (by Almar Klein)](https://www.youtube.com/watch?v=u2kKxmb9BWs&index=18&list=PL8uoeex94UhFrNUV2m5MigREebUms39U5)\n",
    "\n",
    "This Notebook is:\n",
    "- a compacted version of original https://github.com/almarklein/rocket_rust_py\n",
    "- best seen in RISE mode: <center><img src='images/start_rise_mode.png' width=800px></center>\n",
    "\n"
   ]
  },
  {
   "cell_type": "markdown",
   "metadata": {
    "slideshow": {
     "slide_type": "slide"
    }
   },
   "source": [
    "\n",
    "# WASM has a compact binary format\n",
    "\n",
    "\n",
    "\n",
    "#### And a human readable counterpart:\n",
    "\n",
    "```wasm\n",
    "(module\n",
    "    (type $print (func (param i32))\n",
    "    (func $main\n",
    "        (i32.const 42)\n",
    "        (call $print)\n",
    "    )\n",
    "    (start $main)\n",
    ")\n",
    "```"
   ]
  },
  {
   "cell_type": "markdown",
   "metadata": {
    "slideshow": {
     "slide_type": "slide"
    }
   },
   "source": [
    "\n",
    "# It's safe\n",
    "\n",
    "\n",
    "Because browsers."
   ]
  },
  {
   "cell_type": "markdown",
   "metadata": {
    "slideshow": {
     "slide_type": "slide"
    }
   },
   "source": [
    "# Use case 1: Compile a subset of Python to WASM"
   ]
  },
  {
   "cell_type": "markdown",
   "metadata": {
    "slideshow": {
     "slide_type": "slide"
    }
   },
   "source": [
    "<center><img src='images/pysnippet_to_wasm.png' width=800px></center>"
   ]
  },
  {
   "cell_type": "code",
   "execution_count": 1,
   "metadata": {
    "slideshow": {
     "slide_type": "slide"
    }
   },
   "outputs": [],
   "source": [
    "# in RISE mode, click <Shift>+<Enter> to execut a cell\n",
    "def find_prime(nth):\n",
    "    n = 0\n",
    "    i = -1       \n",
    "    while n < nth:\n",
    "        i = i + 1        \n",
    "        if i <= 1:\n",
    "            continue  # nope\n",
    "        elif i == 2:\n",
    "            n = n + 1\n",
    "        else:\n",
    "            gotit = 1\n",
    "            for j in range(2,  i//2+1):\n",
    "                if i % j == 0:\n",
    "                    gotit = 0\n",
    "                    break\n",
    "            if gotit == 1:\n",
    "                n = n + 1    \n",
    "    return i"
   ]
  },
  {
   "cell_type": "code",
   "execution_count": 2,
   "metadata": {
    "slideshow": {
     "slide_type": "-"
    }
   },
   "outputs": [
    {
     "name": "stdout",
     "output_type": "stream",
     "text": [
      "Wall time: 364 ms\n"
     ]
    },
    {
     "data": {
      "text/plain": [
       "7919"
      ]
     },
     "execution_count": 2,
     "metadata": {},
     "output_type": "execute_result"
    }
   ],
   "source": [
    "%time find_prime(1000)"
   ]
  },
  {
   "cell_type": "markdown",
   "metadata": {
    "slideshow": {
     "slide_type": "slide"
    }
   },
   "source": [
    "# Compiling 'find_prime()' to  WASM\n"
   ]
  },
  {
   "cell_type": "markdown",
   "metadata": {
    "slideshow": {
     "slide_type": "fragment"
    }
   },
   "source": [
    "Note: \n",
    "\n",
    "* The python-to-wasm compiler is just a POC!\n",
    "* Assumes a (reliable) wasm-to-native compiler"
   ]
  },
  {
   "cell_type": "code",
   "execution_count": 3,
   "metadata": {
    "slideshow": {
     "slide_type": "slide"
    }
   },
   "outputs": [],
   "source": [
    "# in RISE mode, click <Shift>+<Enter> to execut a cell\n",
    "from ppci import wasm"
   ]
  },
  {
   "cell_type": "code",
   "execution_count": 4,
   "metadata": {
    "slideshow": {
     "slide_type": "-"
    }
   },
   "outputs": [],
   "source": [
    "from ppci.lang.python import python_to_wasm\n",
    "\n",
    "def main():\n",
    "    print(find_prime(1000))\n",
    "\n",
    "m = python_to_wasm(main, find_prime)"
   ]
  },
  {
   "cell_type": "code",
   "execution_count": 5,
   "metadata": {
    "slideshow": {
     "slide_type": "slide"
    }
   },
   "outputs": [
    {
     "name": "stdout",
     "output_type": "stream",
     "text": [
      "(module\n",
      "    (type $0 (func (param f64)))\n",
      "    (type $1 (func))\n",
      "    (type $2 (func (param f64) (result f64)))\n",
      "    (import \"env\" \"f64_print\" (func $print (type $0)))\n",
      "    (export \"main\" (func $main))\n",
      "    (export \"find_prime\" (func $find_prime))\n",
      "    (start $main)\n",
      "    (func $main (type $1)\n",
      "        (f64.const 1000.0)\n",
      "        (call $find_prime)\n",
      "        (call $print)\n",
      "    )\n",
      "    (func $find_prime (type $2) (local f64 f64 f64 f64 f64 f64 f64)\n",
      "        (f64.const 0.0)\n",
      "        (set_local 1)\n",
      "        (f64.const 1.0)\n",
      "        (f64.neg)\n",
      "        (set_local 2)\n",
      "        (block)\n",
      "            (loop)\n",
      "                (get_local 2)\n",
      "                (f64.const 1.0)\n",
      "                (f64.add)\n",
      "                (set_local 2)\n",
      "                (get_local 2)\n",
      "                (f64.const 1.0)\n",
      "                (f64.le)\n",
      "                (if)\n",
      "                    (br 1)\n",
      "                (else)\n",
      "                    (get_local 2)\n",
      "                    (f64.const 2.0)\n",
      "                    (f64.eq)\n",
      "                    (if)\n",
      "                        (get_local 1)\n",
      "                        (f64.const 1.0)\n",
      "                        (f64.add)\n",
      "                        (set_local 1)\n",
      "                    (else)\n",
      "                        (f64.const 1.0)\n",
      "                        (set_local 3)\n",
      "                        (f64.const 2.0)\n",
      "                        (get_local 2)\n",
      "                        (f64.const 2.0)\n",
      "                        (f64.div)\n",
      "                        (f64.floor)\n",
      "                        (f64.const 1.0)\n",
      "                        (f64.add)\n",
      "                        (f64.const 1.0)\n",
      "                        (set_local 6)\n",
      "                        (set_local 5)\n",
      "                        (set_local 4)\n",
      "                        (get_local 4)\n",
      "                        (set_local 7)\n",
      "                        (block)\n",
      "                            (loop)\n",
      "                                (get_local 7)\n",
      "                                (get_local 5)\n",
      "                                (f64.ge)\n",
      "                                (br_if 1)\n",
      "                                (get_local 2)\n",
      "                                (get_local 7)\n",
      "                                (get_local 2)\n",
      "                                (get_local 7)\n",
      "                                (f64.div)\n",
      "                                (f64.floor)\n",
      "                                (f64.mul)\n",
      "                                (f64.sub)\n",
      "                                (f64.const 0.0)\n",
      "                                (f64.eq)\n",
      "                                (if)\n",
      "                                    (f64.const 0.0)\n",
      "                                    (set_local 3)\n",
      "                                    (br 2)\n",
      "                                (end)\n",
      "                                (get_local 7)\n",
      "                                (get_local 6)\n",
      "                                (f64.add)\n",
      "                                (set_local 7)\n",
      "                                (br 0)\n",
      "                            (end)\n",
      "                        (end)\n",
      "                        (get_local 3)\n",
      "                        (f64.const 1.0)\n",
      "                        (f64.eq)\n",
      "                        (if)\n",
      "                            (get_local 1)\n",
      "                            (f64.const 1.0)\n",
      "                            (f64.add)\n",
      "                            (set_local 1)\n",
      "                        (end)\n",
      "                    (end)\n",
      "                (end)\n",
      "                (get_local 1)\n",
      "                (get_local 0)\n",
      "                (f64.lt)\n",
      "                (br_if 0)\n",
      "            (end)\n",
      "        (end)\n",
      "        (get_local 2)\n",
      "        (return)\n",
      "    )\n",
      ")\n",
      "\n"
     ]
    }
   ],
   "source": [
    "# WASM (somewhat) readable machine code\n",
    "m.show()"
   ]
  },
  {
   "cell_type": "code",
   "execution_count": 6,
   "metadata": {
    "slideshow": {
     "slide_type": "slide"
    }
   },
   "outputs": [
    {
     "name": "stdout",
     "output_type": "stream",
     "text": [
      "00000000  00 61 73 6d 01 00 00 00 01 0d 03 60 01 7c 00 60  .asm.......`.|.`\n",
      "00000010  00 00 60 01 7c 01 7c 02 11 01 03 65 6e 76 09 66  ..`.|.|....env.f\n",
      "00000020  36 34 5f 70 72 69 6e 74 00 00 03 03 02 01 02 07  64_print........\n",
      "00000030  15 02 04 6d 61 69 6e 00 01 0a 66 69 6e 64 5f 70  ...main...find_p\n",
      "00000040  72 69 6d 65 00 02 08 01 01 0a 93 02 02 0f 00 44  rime...........D\n",
      "00000050  00 00 00 00 00 40 8f 40 10 02 10 00 0b 80 02 01  .....@.@........\n",
      "00000060  07 7c 44 00 00 00 00 00 00 00 00 21 01 44 00 00  .|D........!.D..\n",
      "00000070  00 00 00 00 f0 3f 9a 21 02 02 40 03 40 20 02 44  .....?.!..@.@..D\n",
      "00000080  00 00 00 00 00 00 f0 3f a0 21 02 20 02 44 00 00  .......?.!...D..\n",
      "00000090  00 00 00 00 f0 3f 65 04 40 0c 01 05 20 02 44 00  .....?e.@.....D.\n",
      "000000a0  00 00 00 00 00 00 40 61 04 40 20 01 44 00 00 00  ......@a.@..D...\n",
      "000000b0  00 00 00 f0 3f a0 21 01 05 44 00 00 00 00 00 00  ....?.!..D......\n",
      "000000c0  f0 3f 21 03 44 00 00 00 00 00 00 00 40 20 02 44  .?!.D.......@..D\n",
      "000000d0  00 00 00 00 00 00 00 40 a3 9c 44 00 00 00 00 00  .......@..D.....\n",
      "000000e0  00 f0 3f a0 44 00 00 00 00 00 00 f0 3f 21 06 21  ..?.D.......?!.!\n",
      "000000f0  05 21 04 20 04 21 07 02 40 03 40 20 07 20 05 66  .!...!..@.@....f\n",
      "00000100  0d 01 20 02 20 07 20 02 20 07 a3 9c a2 a1 44 00  ..............D.\n",
      "00000110  00 00 00 00 00 00 00 61 04 40 44 00 00 00 00 00  .......a.@D.....\n",
      "00000120  00 00 00 21 03 0c 02 0b 20 07 20 06 a0 21 07 0c  ...!.........!..\n",
      "00000130  00 0b 0b 20 03 44 00 00 00 00 00 00 f0 3f 61 04  .....D.......?a.\n",
      "00000140  40 20 01 44 00 00 00 00 00 00 f0 3f a0 21 01 0b  @..D.......?.!..\n",
      "00000150  0b 0b 20 01 20 00 63 0d 00 0b 0b 20 02 0f 0b     ......c........\n"
     ]
    }
   ],
   "source": [
    "# WASM binary format\n",
    "m.show_bytes()"
   ]
  },
  {
   "cell_type": "code",
   "execution_count": 7,
   "metadata": {
    "slideshow": {
     "slide_type": "slide"
    }
   },
   "outputs": [
    {
     "name": "stdout",
     "output_type": "stream",
     "text": [
      "Imports:\n",
      "  env.f64_print:     [f64] -> []\n",
      "Exports:\n",
      "  main:              [] -> []\n",
      "  find_prime:        [f64] -> [f64]\n"
     ]
    }
   ],
   "source": [
    "# WASM interface\n",
    "m.show_interface()"
   ]
  },
  {
   "cell_type": "markdown",
   "metadata": {
    "slideshow": {
     "slide_type": "slide"
    }
   },
   "source": [
    "# Run in Browser \n"
   ]
  },
  {
   "cell_type": "code",
   "execution_count": 8,
   "metadata": {
    "slideshow": {
     "slide_type": "-"
    }
   },
   "outputs": [
    {
     "data": {
      "text/html": [
       "<div style='border: 2px solid blue;' id='wasm_output_1'></div>"
      ],
      "text/plain": [
       "<IPython.core.display.HTML object>"
      ]
     },
     "metadata": {},
     "output_type": "display_data"
    },
    {
     "data": {
      "application/javascript": [
       "(function() {\n",
       "/* This code is used to run WASM modules in either Nodejs or the browser.\n",
       "   In both cases, a couple of standard functions are provided, e.g. to\n",
       "   print text.\n",
       "*/\n",
       "\n",
       "\n",
       "var wasm_data = new Uint8Array([0, 97, 115, 109, 1, 0, 0, 0, 1, 13, 3, 96, 1, 124, 0, 96, 0, 0, 96, 1, 124, 1, 124, 2, 17, 1, 3, 101, 110, 118, 9, 102, 54, 52, 95, 112, 114, 105, 110, 116, 0, 0, 3, 3, 2, 1, 2, 7, 21, 2, 4, 109, 97, 105, 110, 0, 1, 10, 102, 105, 110, 100, 95, 112, 114, 105, 109, 101, 0, 2, 8, 1, 1, 10, 147, 2, 2, 15, 0, 68, 0, 0, 0, 0, 0, 64, 143, 64, 16, 2, 16, 0, 11, 128, 2, 1, 7, 124, 68, 0, 0, 0, 0, 0, 0, 0, 0, 33, 1, 68, 0, 0, 0, 0, 0, 0, 240, 63, 154, 33, 2, 2, 64, 3, 64, 32, 2, 68, 0, 0, 0, 0, 0, 0, 240, 63, 160, 33, 2, 32, 2, 68, 0, 0, 0, 0, 0, 0, 240, 63, 101, 4, 64, 12, 1, 5, 32, 2, 68, 0, 0, 0, 0, 0, 0, 0, 64, 97, 4, 64, 32, 1, 68, 0, 0, 0, 0, 0, 0, 240, 63, 160, 33, 1, 5, 68, 0, 0, 0, 0, 0, 0, 240, 63, 33, 3, 68, 0, 0, 0, 0, 0, 0, 0, 64, 32, 2, 68, 0, 0, 0, 0, 0, 0, 0, 64, 163, 156, 68, 0, 0, 0, 0, 0, 0, 240, 63, 160, 68, 0, 0, 0, 0, 0, 0, 240, 63, 33, 6, 33, 5, 33, 4, 32, 4, 33, 7, 2, 64, 3, 64, 32, 7, 32, 5, 102, 13, 1, 32, 2, 32, 7, 32, 2, 32, 7, 163, 156, 162, 161, 68, 0, 0, 0, 0, 0, 0, 0, 0, 97, 4, 64, 68, 0, 0, 0, 0, 0, 0, 0, 0, 33, 3, 12, 2, 11, 32, 7, 32, 6, 160, 33, 7, 12, 0, 11, 11, 32, 3, 68, 0, 0, 0, 0, 0, 0, 240, 63, 97, 4, 64, 32, 1, 68, 0, 0, 0, 0, 0, 0, 240, 63, 160, 33, 1, 11, 11, 11, 32, 1, 32, 0, 99, 13, 0, 11, 11, 32, 2, 15, 11]);\n",
       "\n",
       "var is_node = typeof window === 'undefined';\n",
       "\n",
       "/* Define functions to provide to the WASM module. */\n",
       "\n",
       "function print_ln(x) {\n",
       "    if (is_node) {\n",
       "        process.stdout.write(x + '\\n');\n",
       "    } else {\n",
       "        var el = document.getElementById('wasm_output_1');\n",
       "        el.innerHTML += String(x).replace('\\n', '<br>') + '<br>';\n",
       "        console.log(x);\n",
       "    }\n",
       "}\n",
       "\n",
       "function print_charcode(i) {\n",
       "    var c = String.fromCharCode(i);\n",
       "    if (is_node) {\n",
       "        process.stdout.write(c);\n",
       "    } else {\n",
       "        if (c == '\\n') { c = '<br>'; }\n",
       "        var el = document.getElementById('wasm_output_1');\n",
       "        el.innerHTML += c;\n",
       "    }\n",
       "}\n",
       "\n",
       "function alert(x) {\n",
       "    if (is_node) {\n",
       "        process.stdout.write('ALERT: ' + x);\n",
       "    } else {\n",
       "        window.alert(x);\n",
       "    }\n",
       "}\n",
       "\n",
       "function perf_counter() {\n",
       "    if (is_node) {\n",
       "        var t = process.hrtime();\n",
       "        return t[0] + t[1] * 1e-9;\n",
       "    } else {\n",
       "        return performance.now() * 1e-3;\n",
       "    }\n",
       "}\n",
       "\n",
       "function test_1_1() {\n",
       "    print_ln('test_1_1 called');\n",
       "}\n",
       "function test_1_0() {\n",
       "    print_ln('test_1_0 called');\n",
       "}\n",
       "function test_0_1() {\n",
       "    print_ln('test_0_1 called');\n",
       "    return 0;\n",
       "}\n",
       "function test_0_0() {\n",
       "    print_ln('test_0_0 called');\n",
       "}\n",
       "\n",
       "/* Pack importable funcs into a dict */\n",
       "\n",
       "/* old mechanics */\n",
       "var providedfuncs = {\n",
       "    print_ln: print_ln,\n",
       "    print_charcode: print_charcode,\n",
       "    bsp_putc: print_charcode,\n",
       "    alert: alert,\n",
       "    perf_counter: perf_counter,\n",
       "    test_1_1: test_1_1,\n",
       "    test_1_0: test_1_0,\n",
       "    test_0_1: test_0_1,\n",
       "    test_0_0: test_0_0\n",
       "};\n",
       "\n",
       "/* Newer style */\n",
       "var envfuncs = {\n",
       "    f64_print: print_ln\n",
       "};\n",
       "\n",
       "\n",
       "function compile_my_wasm() {\n",
       "    print_ln('Compiling wasm module');\n",
       "    var module_ = new WebAssembly.Module(wasm_data);\n",
       "    print_ln('Initializing wasm module');\n",
       "    print_ln('Result:');\n",
       "    var t0 = perf_counter();\n",
       "    var module = new WebAssembly.Instance(module_, {js: providedfuncs, env: envfuncs});\n",
       "    print_ln('(in ' + (perf_counter() - t0) + ' s)');  // flush\n",
       "    \n",
       "\n",
       "    print_ln('\\n');  // flush\n",
       "    \n",
       "}\n",
       ";\n",
       "compile_my_wasm();\n",
       "})();"
      ],
      "text/plain": [
       "<IPython.core.display.Javascript object>"
      ]
     },
     "metadata": {},
     "output_type": "display_data"
    }
   ],
   "source": [
    "wasm.run_wasm_in_notebook(m)"
   ]
  },
  {
   "cell_type": "markdown",
   "metadata": {
    "slideshow": {
     "slide_type": "slide"
    }
   },
   "source": [
    "# Run in NodeJS\n"
   ]
  },
  {
   "cell_type": "code",
   "execution_count": 9,
   "metadata": {
    "slideshow": {
     "slide_type": "-"
    }
   },
   "outputs": [
    {
     "name": "stdout",
     "output_type": "stream",
     "text": [
      "Hello from Nodejs!\n",
      "Compiling wasm module\n",
      "Initializing wasm module\n",
      "Result:\n",
      "7919\n",
      "(in 0.01830307301133871 s)\n"
     ]
    },
    {
     "data": {
      "text/plain": [
       "'7919\\n(in 0.01830307301133871 s)'"
      ]
     },
     "execution_count": 9,
     "metadata": {},
     "output_type": "execute_result"
    }
   ],
   "source": [
    "wasm.run_wasm_in_node(m)"
   ]
  },
  {
   "cell_type": "markdown",
   "metadata": {
    "slideshow": {
     "slide_type": "slide"
    }
   },
   "source": [
    "# Compile 'find_prime()' to WASM then to Machine code"
   ]
  },
  {
   "cell_type": "code",
   "execution_count": 10,
   "metadata": {
    "slideshow": {
     "slide_type": "slide"
    }
   },
   "outputs": [],
   "source": [
    "@wasm.wasmify\n",
    "def find_prime2(nth):\n",
    "    n = 0\n",
    "    i = -1       \n",
    "    while n < nth:\n",
    "        i = i + 1        \n",
    "        if i <= 1:\n",
    "            continue  # nope\n",
    "        elif i == 2:\n",
    "            n = n + 1\n",
    "        else:\n",
    "            gotit = 1\n",
    "            for j in range(2,  i//2+1):\n",
    "                if i % j == 0:\n",
    "                    gotit = 0\n",
    "                    break\n",
    "            if gotit == 1:\n",
    "                n = n + 1    \n",
    "    return i"
   ]
  },
  {
   "cell_type": "code",
   "execution_count": 12,
   "metadata": {
    "slideshow": {
     "slide_type": "-"
    }
   },
   "outputs": [
    {
     "name": "stdout",
     "output_type": "stream",
     "text": [
      "Wall time: 499 µs\n"
     ]
    },
    {
     "data": {
      "text/plain": [
       "0.0"
      ]
     },
     "execution_count": 12,
     "metadata": {},
     "output_type": "execute_result"
    }
   ],
   "source": [
    "%time find_prime2(1000)"
   ]
  },
  {
   "cell_type": "markdown",
   "metadata": {
    "slideshow": {
     "slide_type": "slide"
    }
   },
   "source": [
    "# Use case 2: Python as a platform to bind and run WASM modules\n",
    "    \n",
    "... and allow that code to call into Python functions"
   ]
  },
  {
   "cell_type": "markdown",
   "metadata": {
    "slideshow": {
     "slide_type": "-"
    }
   },
   "source": [
    "<center><img src='images/py_as_platform.png' width=700px></center>"
   ]
  },
  {
   "cell_type": "markdown",
   "metadata": {
    "slideshow": {
     "slide_type": "slide"
    }
   },
   "source": [
    "# the Rocket game from [github.com/aochagavia](https://github.com/aochagavia/rocket_wasm)\n",
    "\n",
    "<center>\n",
    "    <!-- <a href='https://thread-safe.nl/rocket/' target='new'> -->\n",
    "    <a href='rocket.html' target='new'>\n",
    "    <img src='images/github_rocket_wasm.png' width=900>\n",
    "    </a>\n",
    "</center>"
   ]
  },
  {
   "cell_type": "markdown",
   "metadata": {
    "slideshow": {
     "slide_type": "slide"
    }
   },
   "source": [
    "# The rocket game is in a single binary WASM file (58 KB)\n",
    "\n",
    "<center>    \n",
    "    <img src='images/github_rocket_wasm_html.png' width=600>\n",
    "</center>\n",
    "<center>\n",
    "<img src='images/rocketgame.png' width=800>\n",
    "</center>"
   ]
  },
  {
   "cell_type": "code",
   "execution_count": null,
   "metadata": {},
   "outputs": [],
   "source": [
    "from ppci import wasm\n",
    "\n",
    "m = wasm.Module(open(r'wasm/rocket.wasm', 'rb'))\n",
    "m"
   ]
  },
  {
   "cell_type": "code",
   "execution_count": 13,
   "metadata": {
    "slideshow": {
     "slide_type": "slide"
    }
   },
   "outputs": [
    {
     "name": "stdout",
     "output_type": "stream",
     "text": [
      "Imports:\n",
      "  env.f64_print:     [f64] -> []\n",
      "Exports:\n",
      "  main:              [] -> []\n",
      "  find_prime:        [f64] -> [f64]\n"
     ]
    }
   ],
   "source": [
    "m.show_interface()"
   ]
  },
  {
   "cell_type": "markdown",
   "metadata": {
    "slideshow": {
     "slide_type": "slide"
    }
   },
   "source": [
    "<center>\n",
    "<img src='images/github_rocket_wasm_js.png' width=1000>\n",
    "</center>"
   ]
  },
  {
   "cell_type": "markdown",
   "metadata": {
    "slideshow": {
     "slide_type": "slide"
    }
   },
   "source": [
    "<center>\n",
    "<img src='images/rocket_in_js.png' width=800>\n",
    "</center>"
   ]
  },
  {
   "cell_type": "markdown",
   "metadata": {
    "slideshow": {
     "slide_type": "slide"
    }
   },
   "source": [
    "<center>\n",
    "<img src='images/rocket_in_py.png' width=800>\n",
    "</center>"
   ]
  },
  {
   "cell_type": "code",
   "execution_count": null,
   "metadata": {
    "slideshow": {
     "slide_type": "slide"
    }
   },
   "outputs": [],
   "source": [
    "class PythonRocketGame:\n",
    "    \n",
    "    # ...\n",
    "    \n",
    "    def wasm_sin(self, a:float) -> float:\n",
    "        return math.sin(a)\n",
    "    \n",
    "    def wasm_cos(self, a:float) -> float:\n",
    "        return math.cos(a)\n",
    "    \n",
    "    def wasm_Math_atan(self, a:float) -> float:\n",
    "        return math.atan(a)\n",
    "    \n",
    "    def wasm_clear_screen(self) -> None:\n",
    "        # ...\n",
    "    \n",
    "    def wasm_draw_bullet(self, x:float, y:float) -> None:\n",
    "        # ...\n",
    "    \n",
    "    def wasm_draw_enemy(self, x:float, y:float) -> None:\n",
    "        # ...\n",
    "    \n",
    "    def wasm_draw_particle(self, x:float, y:float, a:float) -> None:\n",
    "        # ...\n",
    "    \n",
    "    def wasm_draw_player(self, x:float, y:float, a:float) -> None:\n",
    "       # ...\n",
    "    \n",
    "    def wasm_draw_score(self, score:float) -> None:\n",
    "        # ..."
   ]
  },
  {
   "cell_type": "markdown",
   "metadata": {
    "slideshow": {
     "slide_type": "slide"
    }
   },
   "source": [
    "# Run Rocket in Python with Qt\n",
    "\n"
   ]
  },
  {
   "cell_type": "code",
   "execution_count": 14,
   "metadata": {
    "slideshow": {
     "slide_type": "-"
    }
   },
   "outputs": [],
   "source": [
    "from rocket_qt import QtRocketGame\n",
    "game = QtRocketGame()"
   ]
  },
  {
   "cell_type": "code",
   "execution_count": 15,
   "metadata": {},
   "outputs": [],
   "source": [
    "# you may have to switch to the QT window appearing on the side of your browser session\n",
    "game.run()"
   ]
  },
  {
   "cell_type": "markdown",
   "metadata": {
    "slideshow": {
     "slide_type": "slide"
    }
   },
   "source": [
    "# This game is not that hard to play ..."
   ]
  },
  {
   "cell_type": "markdown",
   "metadata": {
    "slideshow": {
     "slide_type": "fragment"
    }
   },
   "source": [
    "## Let's make an AI!"
   ]
  },
  {
   "cell_type": "markdown",
   "metadata": {
    "slideshow": {
     "slide_type": "fragment"
    }
   },
   "source": [
    "#### Game in rust compiled in WASM\n",
    "#### AI in C compiled in WASM\n",
    "#### Glue in Python"
   ]
  },
  {
   "cell_type": "code",
   "execution_count": 16,
   "metadata": {
    "slideshow": {
     "slide_type": "slide"
    }
   },
   "outputs": [
    {
     "name": "stdout",
     "output_type": "stream",
     "text": [
      "#include <stdlib.h>\n",
      "#include <math.h>\n",
      "\n",
      "/* Imports */\n",
      "void toggle_shoot(int b);\n",
      "void toggle_turn_left(int b);\n",
      "void toggle_turn_right(int b);\n",
      "float Math_atan(float v);\n",
      "//void debug(float a, float b);\n",
      "\n",
      "const float pi = 3.14159265358979;\n",
      "\n",
      "float playerX = 0.0;\n",
      "float playerY = 0.0;\n",
      "float playerA = 0.0;\n",
      "\n",
      "float nearestEnemyX = 0.0;\n",
      "float nearestEnemyY = 0.0;\n",
      "float nearestEnemyD = 99999999999999999.0;\n",
      "\n",
      "void clear_screen() { // reset nearest enemy\n",
      "  nearestEnemyX = 0.0;\n",
      "  nearestEnemyY = 0.0;\n",
      "  nearestEnemyD = 99999999999999999.0;\n",
      "}\n",
      "\n",
      "void draw_player(float x, float y, float a) {\n",
      "  playerX = x;\n",
      "  playerY = y;\n",
      "  while (a > 2*pi)  a -= 2*pi;\n",
      "  while (a < 0)  a += 2*pi2;\n",
      "  playerA = a;\n",
      "}\n",
      "\n",
      "void draw_enemy(float x, float y) {\n",
      "  float d = (x - playerX) * (x - playerX) + (y - playerY) * (y - playerY);\n",
      "  if (d < nearestEnemyD) {\n",
      "    nearestEnemyX = x;\n",
      "    nearestEnemyY = y;\n",
      "    nearestEnemyD = d;\n",
      "  }\n",
      "}\n",
      "\n",
      "void update() {\n",
      "  float enemyA = Math_atan((nearestEnemyY - playerY) / (nearestEnemyX - playerX));\n",
      "  \n",
      "  float a = enemyA - playerA;\n",
      "  while (a > +pi)  a -= 2*pi;\n",
      "  while (a < -pi)  a += 2*pi;\n",
      "  \n",
      "  if (fabsf(a) < 1.0) {\n",
      "    toggle_shoot(1);\n",
      "  } else {\n",
      "    toggle_shoot(0);\n",
      "  }\n",
      "  \n",
      "  if (a > 0.0) {\n",
      "    toggle_turn_left(0); toggle_turn_right(1);\n",
      "  } else {\n",
      "    toggle_turn_left(1); toggle_turn_right(0);\n",
      "  }\n",
      "}\n",
      "\n"
     ]
    }
   ],
   "source": [
    "# let's write the AI in C\n",
    "print(open('wasm/ai2.c', 'rt').read())"
   ]
  },
  {
   "cell_type": "code",
   "execution_count": 17,
   "metadata": {
    "slideshow": {
     "slide_type": "slide"
    }
   },
   "outputs": [],
   "source": [
    "# use https://wasdk.github.io/WasmFiddle/ to convert ai.c in ai2.wasm\n",
    "from ppci import wasm\n",
    "ai2 = wasm.Module(open('wasm/ai2.wasm', 'rb'))"
   ]
  },
  {
   "cell_type": "code",
   "execution_count": 18,
   "metadata": {},
   "outputs": [
    {
     "name": "stdout",
     "output_type": "stream",
     "text": [
      "Imports:\n",
      "  env.Math_atan:     [f32] -> [f32]\n",
      "  env.toggle_shoot:  [i32] -> []\n",
      "  env.toggle_turn_left: [i32] -> []\n",
      "  env.toggle_turn_right: [i32] -> []\n",
      "Exports:\n",
      "  memory:            \"memory\"\n",
      "  clear_screen:      [] -> []\n",
      "  draw_player:       [f32, f32, f32] -> []\n",
      "  draw_enemy:        [f32, f32] -> []\n",
      "  update:            [] -> []\n"
     ]
    }
   ],
   "source": [
    "ai2.show_interface()"
   ]
  },
  {
   "cell_type": "code",
   "execution_count": 19,
   "metadata": {
    "slideshow": {
     "slide_type": "-"
    }
   },
   "outputs": [
    {
     "name": "stdout",
     "output_type": "stream",
     "text": [
      "0\n"
     ]
    },
    {
     "ename": "OSError",
     "evalue": "exception: access violation reading 0x0953FFFF",
     "output_type": "error",
     "traceback": [
      "\u001b[1;31m---------------------------------------------------------------------------\u001b[0m",
      "\u001b[1;31mOSError\u001b[0m                                   Traceback (most recent call last)",
      "\u001b[1;32mC:\\WinP\\bd36\\buQt5\\winp32-3.6.x.2\\notebooks\\docs\\WASM_almar_klein_demo\\rocket_ai.py\u001b[0m in \u001b[0;36mpaintEvent\u001b[1;34m(self, event)\u001b[0m\n\u001b[0;32m     21\u001b[0m \u001b[1;33m\u001b[0m\u001b[0m\n\u001b[0;32m     22\u001b[0m     \u001b[1;32mdef\u001b[0m \u001b[0mpaintEvent\u001b[0m\u001b[1;33m(\u001b[0m\u001b[0mself\u001b[0m\u001b[1;33m,\u001b[0m \u001b[0mevent\u001b[0m\u001b[1;33m)\u001b[0m\u001b[1;33m:\u001b[0m\u001b[1;33m\u001b[0m\u001b[0m\n\u001b[1;32m---> 23\u001b[1;33m         \u001b[0msuper\u001b[0m\u001b[1;33m(\u001b[0m\u001b[1;33m)\u001b[0m\u001b[1;33m.\u001b[0m\u001b[0mpaintEvent\u001b[0m\u001b[1;33m(\u001b[0m\u001b[0mevent\u001b[0m\u001b[1;33m)\u001b[0m\u001b[1;33m\u001b[0m\u001b[0m\n\u001b[0m\u001b[0;32m     24\u001b[0m         \u001b[0mself\u001b[0m\u001b[1;33m.\u001b[0m\u001b[0mai\u001b[0m\u001b[1;33m.\u001b[0m\u001b[0mexports\u001b[0m\u001b[1;33m.\u001b[0m\u001b[0mupdate\u001b[0m\u001b[1;33m(\u001b[0m\u001b[1;33m)\u001b[0m\u001b[1;33m\u001b[0m\u001b[0m\n\u001b[0;32m     25\u001b[0m \u001b[1;33m\u001b[0m\u001b[0m\n",
      "\u001b[1;32mC:\\WinP\\bd36\\buQt5\\winp32-3.6.x.2\\notebooks\\docs\\WASM_almar_klein_demo\\rocket_qt.py\u001b[0m in \u001b[0;36mpaintEvent\u001b[1;34m(self, event)\u001b[0m\n\u001b[0;32m     39\u001b[0m         \u001b[0mself\u001b[0m\u001b[1;33m.\u001b[0m\u001b[0m_lasttime\u001b[0m \u001b[1;33m=\u001b[0m \u001b[0mtime\u001b[0m\u001b[1;33m.\u001b[0m\u001b[0mtime\u001b[0m\u001b[1;33m(\u001b[0m\u001b[1;33m)\u001b[0m\u001b[1;33m\u001b[0m\u001b[0m\n\u001b[0;32m     40\u001b[0m         \u001b[0mself\u001b[0m\u001b[1;33m.\u001b[0m\u001b[0mgame\u001b[0m\u001b[1;33m.\u001b[0m\u001b[0mexports\u001b[0m\u001b[1;33m.\u001b[0m\u001b[0mupdate\u001b[0m\u001b[1;33m(\u001b[0m\u001b[0mprogress\u001b[0m\u001b[1;33m)\u001b[0m\u001b[1;33m\u001b[0m\u001b[0m\n\u001b[1;32m---> 41\u001b[1;33m         \u001b[0mself\u001b[0m\u001b[1;33m.\u001b[0m\u001b[0mgame\u001b[0m\u001b[1;33m.\u001b[0m\u001b[0mexports\u001b[0m\u001b[1;33m.\u001b[0m\u001b[0mdraw\u001b[0m\u001b[1;33m(\u001b[0m\u001b[1;33m)\u001b[0m\u001b[1;33m\u001b[0m\u001b[0m\n\u001b[0m\u001b[0;32m     42\u001b[0m \u001b[1;33m\u001b[0m\u001b[0m\n\u001b[0;32m     43\u001b[0m         \u001b[0mself\u001b[0m\u001b[1;33m.\u001b[0m\u001b[0m_painter\u001b[0m\u001b[1;33m.\u001b[0m\u001b[0mend\u001b[0m\u001b[1;33m(\u001b[0m\u001b[1;33m)\u001b[0m\u001b[1;33m\u001b[0m\u001b[0m\n",
      "\u001b[1;32m<string>\u001b[0m in \u001b[0;36mdraw\u001b[1;34m()\u001b[0m\n",
      "\u001b[1;32mC:\\WinP\\bd36\\buQt5\\winp32-3.6.x.2\\notebooks\\docs\\WASM_almar_klein_demo\\rocket_ai.py\u001b[0m in \u001b[0;36mwasm_clear_screen\u001b[1;34m(self)\u001b[0m\n\u001b[0;32m     42\u001b[0m     \u001b[1;32mdef\u001b[0m \u001b[0mwasm_clear_screen\u001b[0m\u001b[1;33m(\u001b[0m\u001b[0mself\u001b[0m\u001b[1;33m)\u001b[0m \u001b[1;33m->\u001b[0m \u001b[1;32mNone\u001b[0m\u001b[1;33m:\u001b[0m  \u001b[1;31m# [] -> []\u001b[0m\u001b[1;33m\u001b[0m\u001b[0m\n\u001b[0;32m     43\u001b[0m         \u001b[0msuper\u001b[0m\u001b[1;33m(\u001b[0m\u001b[1;33m)\u001b[0m\u001b[1;33m.\u001b[0m\u001b[0mwasm_clear_screen\u001b[0m\u001b[1;33m(\u001b[0m\u001b[1;33m)\u001b[0m\u001b[1;33m\u001b[0m\u001b[0m\n\u001b[1;32m---> 44\u001b[1;33m         \u001b[0mself\u001b[0m\u001b[1;33m.\u001b[0m\u001b[0mai\u001b[0m\u001b[1;33m.\u001b[0m\u001b[0mexports\u001b[0m\u001b[1;33m.\u001b[0m\u001b[0mclear_screen\u001b[0m\u001b[1;33m(\u001b[0m\u001b[1;33m)\u001b[0m\u001b[1;33m\u001b[0m\u001b[0m\n\u001b[0m\u001b[0;32m     45\u001b[0m \u001b[1;33m\u001b[0m\u001b[0m\n\u001b[0;32m     46\u001b[0m     \u001b[1;32mdef\u001b[0m \u001b[0mwasm_draw_enemy\u001b[0m\u001b[1;33m(\u001b[0m\u001b[0mself\u001b[0m\u001b[1;33m,\u001b[0m \u001b[0mx\u001b[0m\u001b[1;33m:\u001b[0m \u001b[0mfloat\u001b[0m\u001b[1;33m,\u001b[0m \u001b[0my\u001b[0m\u001b[1;33m:\u001b[0m \u001b[0mfloat\u001b[0m\u001b[1;33m)\u001b[0m \u001b[1;33m->\u001b[0m \u001b[1;32mNone\u001b[0m\u001b[1;33m:\u001b[0m  \u001b[1;31m# [(0, 'f64'), (1, 'f64')] -> []\u001b[0m\u001b[1;33m\u001b[0m\u001b[0m\n",
      "\u001b[1;31mOSError\u001b[0m: exception: access violation reading 0x0953FFFF"
     ]
    }
   ],
   "source": [
    "from rocket_ai import AiRocketGame\n",
    "game = AiRocketGame(ai2)\n",
    "game.run()"
   ]
  },
  {
   "cell_type": "markdown",
   "metadata": {
    "slideshow": {
     "slide_type": "slide"
    }
   },
   "source": [
    "\n",
    "# Wrapping up ..."
   ]
  },
  {
   "cell_type": "markdown",
   "metadata": {
    "slideshow": {
     "slide_type": "slide"
    }
   },
   "source": [
    "## WASM is coming, and its awesome!\n",
    "\n",
    "\n",
    "<img src='images/wasm.png' width=150 align=right>\n",
    "\n",
    "* Open, low-level, fast, compact and safe\n",
    "* Already works in most browsers\n",
    "* Not limited to the web\n",
    "\n"
   ]
  },
  {
   "cell_type": "markdown",
   "metadata": {
    "slideshow": {
     "slide_type": "fragment"
    }
   },
   "source": [
    "<img src='images/python.png' width=150 align=right>\n",
    "\n",
    "## We Pythonista's should embrace it!\n",
    "\n",
    "* E.g. run a Python VM in the browser\n",
    "* E.g. compile subset of Python to fast, crossplatform code\n",
    "* E.g. use Python as a platform to bind and execute WASM modules"
   ]
  },
  {
   "cell_type": "markdown",
   "metadata": {
    "slideshow": {
     "slide_type": "fragment"
    }
   },
   "source": [
    "## Thanks!"
   ]
  }
 ],
 "metadata": {
  "anaconda-cloud": {},
  "celltoolbar": "Slideshow",
  "kernelspec": {
   "display_name": "Python 3",
   "language": "python",
   "name": "python3"
  },
  "language_info": {
   "codemirror_mode": {
    "name": "ipython",
    "version": 3
   },
   "file_extension": ".py",
   "mimetype": "text/x-python",
   "name": "python",
   "nbconvert_exporter": "python",
   "pygments_lexer": "ipython3",
   "version": "3.6.6"
  }
 },
 "nbformat": 4,
 "nbformat_minor": 2
}
