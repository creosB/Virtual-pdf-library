{
 "cells": [
  {
   "cell_type": "markdown",
   "metadata": {},
   "source": [
    "# Installating Julia/IJulia (version of 2019-08-25)\n",
    "\n",
    "### Warning: as of 2019-08-25, the Julia installation is not supposed to support a move of Winpython library\n",
    "\n",
    "read also https://pyjulia.readthedocs.io/en/latest/installation.html#step-1-install-julia\n",
    "\n",
    "other intesting note:\n",
    "or https://discourse.julialang.org/t/using-jupyterlab/20595/2\n",
    "or https://blog.jupyter.org/i-python-you-r-we-julia-baf064ca1fb6\n",
    "\n",
    "###0 - mandatory and only pre-requisites (prepared, in  WinPython 2019-03+)\n",
    "\"pip install pyjulia\"      pyjulia python package\n",
    "\"set PYTHON=%WINDPYDIR%\\python.exe\"   in your %WINPYDIR%..\\scripts\\ENV.BAT\n",
    "\n",
    "###1 - Downloading and Installing the right Julia binary in the right place"
   ]
  },
  {
   "cell_type": "code",
   "execution_count": null,
   "metadata": {},
   "outputs": [],
   "source": [
    "import os\n",
    "import sys\n",
    "import io"
   ]
  },
  {
   "cell_type": "code",
   "execution_count": null,
   "metadata": {},
   "outputs": [],
   "source": [
    "# downloading julia (32Mo, may take 1 minute or 2)\n",
    "try:\n",
    "    import urllib.request as urllib2  # Python 3\n",
    "except:\n",
    "    import urllib2  # Python 2\n",
    "if 'amd64' in sys.version.lower():\n",
    "    julia_binary=\"julia-1.2.0-win64.exe\"\n",
    "    julia_url=\"https://julialang-s3.julialang.org/bin/winnt/x64/1.2/julia-1.2.0-win64.exe\"\n",
    "    hashes=(\"5ccb7d585f854f3a3d1c6d3db07b6c0f\", \"93A94ED6429463E585B7B7E2CAC079F92820F71D\" )\n",
    "else:\n",
    "    julia_binary=\"julia-1.2.0-win32.exe\"\n",
    "    julia_url=\"https://julialang-s3.julialang.org/bin/winnt/x86/1.2/julia-1.2.0-win32.exe\"\n",
    "    hashes=(\"a2a0ab81bd639339970248c808316f23\", \"b5e0e5b6f0e5a737f4de9baa758b3ab50e2d52cb\")\n",
    "    \n",
    "julia_installer=os.environ[\"WINPYDIR\"]+\"\\\\..\\\\t\\\\\"+julia_binary\n",
    "os.environ[\"julia_installer\"]=julia_installer\n",
    "g = urllib2.urlopen(julia_url) \n",
    "with io.open(julia_installer, 'wb') as f:\n",
    "    f.write(g.read())\n",
    "g.close\n",
    "g = None"
   ]
  },
  {
   "cell_type": "code",
   "execution_count": null,
   "metadata": {},
   "outputs": [],
   "source": [
    "#checking it's there\n",
    "!dir %julia_installer%"
   ]
  },
  {
   "cell_type": "code",
   "execution_count": null,
   "metadata": {},
   "outputs": [],
   "source": [
    "# checking it's the official julia0.3.2\n",
    "import hashlib\n",
    "def give_hash(of_file, with_this):\n",
    "    with io.open(julia_installer, 'rb') as f:\n",
    "        return with_this(f.read()).hexdigest()  \n",
    "print (\" \"*12+\"MD5\"+\" \"*(32-12-3)+\" \"+\" \"*15+\"SHA-1\"+\" \"*(40-15-5)+\"\\n\"+\"-\"*32+\" \"+\"-\"*40)\n",
    "\n",
    "print (\"%s %s %s\" % (give_hash(julia_installer, hashlib.md5) , give_hash(julia_installer, hashlib.sha1),julia_installer))\n",
    "assert give_hash(julia_installer, hashlib.md5) == hashes[0].lower() \n",
    "assert give_hash(julia_installer, hashlib.sha1) ==  hashes[1].lower()"
   ]
  },
  {
   "cell_type": "code",
   "execution_count": null,
   "metadata": {},
   "outputs": [],
   "source": [
    "# will be in env next time\n",
    "import os\n",
    "os.environ[\"JULIA_HOME\"] = os.environ[\"WINPYDIR\"]+\"\\\\..\\\\t\\\\Julia\\\\bin\\\\\"\n",
    "os.environ[\"JULIA_EXE\"]=\"julia.exe\"\n",
    "os.environ[\"JULIA\"]=os.environ[\"JULIA_HOME\"]+os.environ[\"JULIA_EXE\"]\n",
    "os.environ[\"JULIA_PKGDIR\"]=os.environ[\"WINPYDIRBASE\"]+\"\\\\settings\\\\.julia\"\n",
    "# for installation we need this\n",
    "os.environ[\"JULIAROOT\"]=os.path.join(os.path.split(os.environ[\"WINPYDIR\"])[0]  , 't','julia' )  "
   ]
  },
  {
   "cell_type": "code",
   "execution_count": null,
   "metadata": {},
   "outputs": [],
   "source": [
    "# let's install it (add a  /S before /D if you want silence mode installation)\n",
    "#nullsoft installers don't accept . or .. conventions\n",
    "\n",
    "# If you are \"USB life style\", or multi-winpython\n",
    "#   ==> UN-CLICK the OPTION 'CREATE a StartMenuFolder and Shortcut' <== (when it will show up)\n",
    "!start cmd /C %julia_installer% /D=%JULIAROOT%\n"
   ]
  },
  {
   "cell_type": "markdown",
   "metadata": {},
   "source": [
    "<img src=\"https://raw.githubusercontent.com/stonebig/winpython_afterdoc/master/examples/images/julia_setup_unclick_all.GIF\">"
   ]
  },
  {
   "cell_type": "markdown",
   "metadata": {},
   "source": [
    "###2 - Initialize Julia , IJulia, and make them link to winpython"
   ]
  },
  {
   "cell_type": "code",
   "execution_count": null,
   "metadata": {},
   "outputs": [],
   "source": [
    "# connecting Julia to WinPython (only once, or everytime you move things)\n",
    "import julia\n",
    "julia.install()"
   ]
  },
  {
   "cell_type": "code",
   "execution_count": null,
   "metadata": {},
   "outputs": [],
   "source": [
    "%load_ext julia.magic"
   ]
  },
  {
   "cell_type": "code",
   "execution_count": null,
   "metadata": {},
   "outputs": [],
   "source": [
    "%%julia  \n",
    "import Pkg;\n",
    "Pkg.add(\"PyPlot\")\n",
    "Pkg.add(\"Interact\")\n",
    "Pkg.add(\"Compose\")\n",
    "Pkg.add(\"SymPy\")\n",
    "Pkg.add(\"JuMP\")\n",
    "Pkg.add(\"Ipopt\")"
   ]
  },
  {
   "cell_type": "markdown",
   "metadata": {},
   "source": [
    "###3 - Launching a Julia Notebook \n",
    "\n",
    "choose a Julia Kernel from Notebook, or Julia from Jupyterlab Launcher\n",
    "\n"
   ]
  },
  {
   "cell_type": "markdown",
   "metadata": {},
   "source": [
    "###4 - Julia Magic \n",
    "or use %load_ext julia.magic then %julia or %%julia"
   ]
  },
  {
   "cell_type": "code",
   "execution_count": null,
   "metadata": {},
   "outputs": [],
   "source": [
    "import julia\n",
    "%matplotlib inline\n",
    "%load_ext julia.magic"
   ]
  },
  {
   "cell_type": "code",
   "execution_count": null,
   "metadata": {},
   "outputs": [],
   "source": [
    "# since Julia 1.x ''@pyimport foo' is replaced per 'foo = pyimport(\"foo\")'' \n",
    "%julia plt = pyimport(\"matplotlib.pyplot\")\n",
    "%julia np = pyimport(\"numpy\")"
   ]
  },
  {
   "cell_type": "code",
   "execution_count": null,
   "metadata": {},
   "outputs": [],
   "source": [
    "%%julia                                        \n",
    "t = np.linspace(0, 2*pi,1000);             \n",
    "s = np.sin(3*t + 4*np.cos(2*t));           \n",
    "fig = plt.gcf()                         \n",
    "plt.plot(t, s, color=\"red\", linewidth=2.0, linestyle=\"--\", label=\"sin(3t+4.cos(2t))\")"
   ]
  },
  {
   "cell_type": "code",
   "execution_count": null,
   "metadata": {},
   "outputs": [],
   "source": [
    "#Alternative\n",
    "import julia\n",
    "j=julia.Julia()\n",
    "j.eval(\"1 +31\")\n",
    "j.eval(\"sqrt(1 +31)\")"
   ]
  },
  {
   "cell_type": "code",
   "execution_count": null,
   "metadata": {},
   "outputs": [],
   "source": []
  }
 ],
 "metadata": {
  "kernelspec": {
   "display_name": "Python 3",
   "language": "python",
   "name": "python3"
  },
  "language_info": {
   "codemirror_mode": {
    "name": "ipython",
    "version": 3
   },
   "file_extension": ".py",
   "mimetype": "text/x-python",
   "name": "python",
   "nbconvert_exporter": "python",
   "pygments_lexer": "ipython3",
   "version": "3.7.4"
  }
 },
 "nbformat": 4,
 "nbformat_minor": 4
}
