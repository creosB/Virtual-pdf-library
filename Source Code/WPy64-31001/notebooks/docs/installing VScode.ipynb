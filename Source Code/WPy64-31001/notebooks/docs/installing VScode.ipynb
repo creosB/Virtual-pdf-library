{
 "cells": [
  {
   "cell_type": "markdown",
   "metadata": {},
   "source": [
    "# Installating and using portable VScode\n",
    "### (for Python-VSCode-2020.4.74986 , that handles ipywidgets)\n",
    "\n",
    "read also https://code.visualstudio.com/docs/editor/portable\n",
    "\n",
    "Portable mode is only supported on the Windows ZIP archive of vscode\n",
    "\n"
   ]
  },
  {
   "cell_type": "code",
   "execution_count": null,
   "metadata": {},
   "outputs": [],
   "source": [
    "!echo %winpydirbase%"
   ]
  },
  {
   "cell_type": "markdown",
   "metadata": {},
   "source": [
    "### 1 - Downloading and Installing the right VScode binary in the right place\n",
    "go to https://code.visualstudio.com/Download\n",
    "\n",
    "download a VSCode \"zip\" version for Windows\n",
    "\n",
    "unzip it and rename the top directory as \"VScode\" (from, for example, \"VSCode-win32-ia32-1.38.0\")\n",
    "\n",
    "place it under Winpython base directory %winpydirbase%\\t\\\n",
    "\n",
    "you must have the code.exe executable in  %winpydirbase%\\t\\VSCode\\code.exe"
   ]
  },
  {
   "cell_type": "code",
   "execution_count": null,
   "metadata": {},
   "outputs": [],
   "source": [
    "!if not exist \"%winpydirbase%\\t\\vscode\" mkdir \"%winpydirbase%\\t\\vscode\"\n",
    "!echo \"%winpydirbase%\\t\\vscode\""
   ]
  },
  {
   "cell_type": "markdown",
   "metadata": {},
   "source": [
    "### 2 - prepare Portable VScode\n",
    "\n",
    "create the directory %winpydirbase%\\t\\VSCode\\data : seeing it VScode will put all is parametrizing there.\n",
    "\n",
    "create the directory %winpydirbase%\\t\\VSCode\\data\\user-data\\user\\settings.json as follow: \n",
    "\n",
    "````json\n",
    "{\n",
    "\"python.interpreterPath\": \"${env:WINPYDIR}\\\\\\\\python.exe\",\n",
    "\"jupyter.widgetScriptSources\": [\n",
    "    \"jsdelivr.com\",\n",
    "    \"unpkg.com\"\n",
    "],\n",
    "\n",
    "} \n",
    "````\n",
    "\n",
    "nota:\n",
    "- 2020-11-23: no more \"python.dataScience.widgetScriptSources\"\n",
    "- no more \"python.pythonPath\": \"${env:WINPYDIR}\\\\\\\\python.exe\",\n",
    "- the \"VS Code\" icon of WinPython should work with a fixed-PC installed VScode, by changing the setting of python.pythonPath as indicated above"
   ]
  },
  {
   "cell_type": "code",
   "execution_count": null,
   "metadata": {},
   "outputs": [],
   "source": [
    "import os\n",
    "os.environ[\"tmpjson\"] = os.environ[\"winpydirbase\"]+\"\\\\t\\\\VSCode\\\\data\\\\user-data\\\\user\\\\settings.json\"\n",
    "!rem set tmpjson=%winpydirbase%\\t\\VSCode\\data\\user-data\\user\\settings.json\n",
    "!if not exist \"%winpydirbase%\\t\\vscode\" mkdir \"%winpydirbase%\\t\\vscode\"\n",
    "!if not exist \"%winpydirbase%\\t\\vscode\\data\" mkdir \"%winpydirbase%\\t\\vscode\\data\"\n",
    "!if not exist \"%winpydirbase%\\t\\vscode\\data\\user-data\" mkdir \"%winpydirbase%\\t\\vscode\\data\\user-data\"\n",
    "!if not exist \"%winpydirbase%\\t\\vscode\\data\\user-data\\user\" mkdir \"%winpydirbase%\\t\\vscode\\data\\user-data\\user\"\n",
    "!if exist \"%tmpjson%.txt\" del \"%tmpjson%.txt\"\n",
    "!if not exist %tmpjson% echo { > \"%tmpjson%.txt\"\n",
    "!if not exist %tmpjson% echo \"python.interpreterPath\": \"${env:WINPYDIR}\\\\\\\\python.exe\", >> \"%tmpjson%.txt\"\n",
    "!if not exist %tmpjson% echo \"jupyter.widgetScriptSources\": [ >> \"%tmpjson%.txt\"\n",
    "!if not exist %tmpjson% echo \"jsdelivr.com\", >> \"%tmpjson%.txt\"\n",
    "!if not exist %tmpjson% echo \"unpkg.com\" >> \"%tmpjson%.txt\"\n",
    "!if not exist %tmpjson% echo ], >> \"%tmpjson%.txt\"\n",
    "!if not exist %tmpjson% echo } >> \"%tmpjson%.txt\"\n",
    "!if not exist \"%tmpjson%\" copy \"%tmpjson%.txt\" \"%tmpjson%\"\n",
    "!if exist \"%tmpjson%.txt\" del \"%tmpjson%.txt\""
   ]
  },
  {
   "cell_type": "code",
   "execution_count": null,
   "metadata": {},
   "outputs": [],
   "source": [
    "!type \"%tmpjson%\""
   ]
  },
  {
   "cell_type": "markdown",
   "metadata": {},
   "source": [
    "### 3 - Launch \"VS Code\" icon (at base directory of Winpython)\n",
    "\n",
    "nota: it will launch the %winpydirbase%\\scripts\\winvscode.bat:\n",
    "```DOS\n",
    "@echo off\n",
    "rem launcher for VScode\n",
    "call \"%~dp0env_for_icons.bat\"\n",
    "cd/D \"%WINPYWORKDIR%\"\n",
    "if exist \"%WINPYDIR%\\..\\t\\vscode\\code.exe\" (\n",
    "    \"%WINPYDIR%\\..\\t\\vscode\\code.exe\" %*\n",
    ") else (\n",
    "    \"code.exe\" %*\n",
    ")\n",
    "```\n",
    "\n"
   ]
  },
  {
   "cell_type": "code",
   "execution_count": null,
   "metadata": {},
   "outputs": [],
   "source": [
    "#launching for you\n",
    "!%winpydirbase%\\scripts\\winvscode.bat"
   ]
  },
  {
   "cell_type": "markdown",
   "metadata": {},
   "source": [
    "### 4  - add the python extension\n",
    "\n",
    "go to vscode menu \"View --> Extensions\" to select an extension (it's also the left-bottom_of_the_top icon)\n",
    "\n",
    "Type \"Python\" to search the Python ones\n",
    "\n",
    "select the \"Python\"  from author Microsoft (the most popular extension), and click \"install\"\n"
   ]
  },
  {
   "cell_type": "markdown",
   "metadata": {},
   "source": [
    "### 5 - using \"VS Code\"\n",
    "\n",
    "#### Python file (.py)\n",
    "\n",
    "Opening a first Python file will launch the Python extension\n",
    "\n",
    "After about 20 seconds, Your WinPython Python Interpreter must appear on bottom left of the vscode window, as a proof it is recognized\n",
    "\n",
    ".. if not, the Python extension will propose you to select it manually.\n",
    "\n",
    "Open via \"File->Open\" of VScode  a python file, like for example %winpydirbase\\notebook\\minesweeper.py\n",
    "\n",
    "\"Right-Click\" in the middle of the source file and choose  \"Run Python File in Terminal\"\n",
    "\n",
    "#### Ipython Notebook (.ipynb)\n",
    "\n",
    "see https://code.visualstudio.com/docs/python/jupyter-support\n",
    "\n",
    "on the File Explorer of VS Code, right click on \"baresql experiment.ipynb\" and choose \"Import Jupyter Notebook\"\n",
    "\n",
    "(yes, it does an import with some transformation)\n",
    "\n",
    "\"Right Click\" on the source file obtained and choose \"Run all cells\" or click on individual \"Run cell\" that are displayed in the imported source.\n",
    "\n",
    "**beware** Jupyter is very **slow to start** (twice slower than in direct mode ?)"
   ]
  },
  {
   "cell_type": "markdown",
   "metadata": {},
   "source": [
    "### 6 - checking / changing the path to WinPython (if not done properly in step 2)\n",
    "\n",
    "go to vscode men \"Files --> Preferences -> Settings\n",
    "\n",
    "look for python.pythonPath and press enter\n",
    "\n",
    "to get an automatically movable path, type in it \n",
    "````\n",
    "${env:WINPYDIR}\\\\python.exe\n",
    "````\n",
    "press enter to validate\n",
    "\n",
    "The Selected Python Interpreter must appear on bottom left of the vscode window, as a proof it is recognized"
   ]
  },
  {
   "cell_type": "code",
   "execution_count": null,
   "metadata": {},
   "outputs": [],
   "source": [
    "!dir"
   ]
  },
  {
   "cell_type": "code",
   "execution_count": null,
   "metadata": {},
   "outputs": [],
   "source": []
  }
 ],
 "metadata": {
  "kernelspec": {
   "display_name": "Python 3",
   "language": "python",
   "name": "python3"
  },
  "language_info": {
   "codemirror_mode": {
    "name": "ipython",
    "version": 3
   },
   "file_extension": ".py",
   "mimetype": "text/x-python",
   "name": "python",
   "nbconvert_exporter": "python",
   "pygments_lexer": "ipython3",
   "version": "3.8.6"
  }
 },
 "nbformat": 4,
 "nbformat_minor": 4
}
