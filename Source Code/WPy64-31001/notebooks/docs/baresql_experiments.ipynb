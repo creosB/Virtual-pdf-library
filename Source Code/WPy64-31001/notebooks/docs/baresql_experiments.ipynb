{
 "cells": [
  {
   "cell_type": "markdown",
   "metadata": {},
   "source": [
    "## Baresql : an attempt to make a better sql handling of Python datas\n",
    "\n",
    "Tips:\n",
    " - zz$$ is to create temporarly a table zz in SQLite from Python list or Dataframe zz\n",
    " - :z (otherwise $z legacy) is a variable to use in Sqlite query from Python Variable z\n",
    " - use \"PERSIST zz\" to keep a Python table in the Database between 2 calls\n",
    " - use pydef to create python function in SQLite:\n",
    "    . \"pydef\" is the beginning of the function, first semicolumn \";\" the end of the function\n",
    "    . every in & out paramater of a Python function must be a string\n",
    " \n",
    "Other packages in same domain: ipython-sql, pandasql, sqlite-bro, db.py, jupyterlab-sql\n",
    "   "
   ]
  },
  {
   "cell_type": "code",
   "execution_count": 1,
   "metadata": {},
   "outputs": [
    {
     "name": "stdout",
     "output_type": "stream",
     "text": [
      "*** def py_sqrt(s):\n",
      "    \"sqrt function from Python Math standard library\"\n",
      "    import math as py_math\n",
      "    return (\"%s\" %  py_math.sqrt(float(s))) ***\n"
     ]
    },
    {
     "data": {
      "text/html": [
       "<div>\n",
       "<style scoped>\n",
       "    .dataframe tbody tr th:only-of-type {\n",
       "        vertical-align: middle;\n",
       "    }\n",
       "\n",
       "    .dataframe tbody tr th {\n",
       "        vertical-align: top;\n",
       "    }\n",
       "\n",
       "    .dataframe thead th {\n",
       "        text-align: right;\n",
       "    }\n",
       "</style>\n",
       "<table border=\"1\" class=\"dataframe\">\n",
       "  <thead>\n",
       "    <tr style=\"text-align: right;\">\n",
       "      <th></th>\n",
       "      <th>py_sqrt(sum(x*x) / (count(*) -1))</th>\n",
       "      <th>just_to_check</th>\n",
       "      <th>:titi</th>\n",
       "    </tr>\n",
       "  </thead>\n",
       "  <tbody>\n",
       "    <tr>\n",
       "      <td>0</td>\n",
       "      <td>1.5811388300841898</td>\n",
       "      <td>7</td>\n",
       "      <td>9</td>\n",
       "    </tr>\n",
       "  </tbody>\n",
       "</table>\n",
       "</div>"
      ],
      "text/plain": [
       "  py_sqrt(sum(x*x) / (count(*) -1))  just_to_check  :titi\n",
       "0                1.5811388300841898              7      9"
      ]
     },
     "execution_count": 1,
     "metadata": {},
     "output_type": "execute_result"
    }
   ],
   "source": [
    "from baresql import baresql\n",
    "bsql = baresql.baresql()\n",
    "bsqldf = lambda q: bsql.df(q, dict(globals(),**locals()))\n",
    "\n",
    "datas = (1 , 2 , 3 , 4, 5 )\n",
    "toto = 7\n",
    "titi = 9\n",
    "sql=\"\"\"\n",
    "pydef py_sqrt(s):\n",
    "    \"sqrt function from Python Math standard library\"\n",
    "    import math as py_math\n",
    "    return (\"%s\" %  py_math.sqrt(float(s)));\n",
    "with delta(x) as (select  c0  - (avg(c0) over() )    from datas$$)\n",
    " select py_sqrt(sum(x*x) / (count(*) -1)) , $toto as just_to_check , :titi from delta\"\"\"\n",
    "bsqldf(sql)"
   ]
  },
  {
   "cell_type": "code",
   "execution_count": 2,
   "metadata": {},
   "outputs": [
    {
     "data": {
      "text/plain": [
       "1.5811388300841898"
      ]
     },
     "execution_count": 2,
     "metadata": {},
     "output_type": "execute_result"
    }
   ],
   "source": [
    "import statistics\n",
    "statistics.stdev(datas)"
   ]
  },
  {
   "cell_type": "code",
   "execution_count": 3,
   "metadata": {},
   "outputs": [
    {
     "name": "stdout",
     "output_type": "stream",
     "text": [
      "*** def py_quad(s): return ('%s' %  float(s)**4) ***\n"
     ]
    },
    {
     "data": {
      "text/html": [
       "<div>\n",
       "<style scoped>\n",
       "    .dataframe tbody tr th:only-of-type {\n",
       "        vertical-align: middle;\n",
       "    }\n",
       "\n",
       "    .dataframe tbody tr th {\n",
       "        vertical-align: top;\n",
       "    }\n",
       "\n",
       "    .dataframe thead th {\n",
       "        text-align: right;\n",
       "    }\n",
       "</style>\n",
       "<table border=\"1\" class=\"dataframe\">\n",
       "  <thead>\n",
       "    <tr style=\"text-align: right;\">\n",
       "      <th></th>\n",
       "      <th>py_quad(2)</th>\n",
       "    </tr>\n",
       "  </thead>\n",
       "  <tbody>\n",
       "    <tr>\n",
       "      <td>0</td>\n",
       "      <td>16.0</td>\n",
       "    </tr>\n",
       "  </tbody>\n",
       "</table>\n",
       "</div>"
      ],
      "text/plain": [
       "  py_quad(2)\n",
       "0       16.0"
      ]
     },
     "execution_count": 3,
     "metadata": {},
     "output_type": "execute_result"
    }
   ],
   "source": [
    "# defining a pydef function\n",
    "bsqldf(\"pydef py_quad(s): return ('%s' %  float(s)**4)\")\n",
    "bsqldf(\"select py_quad(2)\")"
   ]
  },
  {
   "cell_type": "code",
   "execution_count": 14,
   "metadata": {},
   "outputs": [
    {
     "data": {
      "text/html": [
       "<div>\n",
       "<style scoped>\n",
       "    .dataframe tbody tr th:only-of-type {\n",
       "        vertical-align: middle;\n",
       "    }\n",
       "\n",
       "    .dataframe tbody tr th {\n",
       "        vertical-align: top;\n",
       "    }\n",
       "\n",
       "    .dataframe thead th {\n",
       "        text-align: right;\n",
       "    }\n",
       "</style>\n",
       "<table border=\"1\" class=\"dataframe\">\n",
       "  <thead>\n",
       "    <tr style=\"text-align: right;\">\n",
       "      <th></th>\n",
       "      <th>index</th>\n",
       "      <th>c0</th>\n",
       "    </tr>\n",
       "  </thead>\n",
       "  <tbody>\n",
       "    <tr>\n",
       "      <td>0</td>\n",
       "      <td>0</td>\n",
       "      <td>1.0</td>\n",
       "    </tr>\n",
       "    <tr>\n",
       "      <td>1</td>\n",
       "      <td>1</td>\n",
       "      <td>2.0</td>\n",
       "    </tr>\n",
       "    <tr>\n",
       "      <td>2</td>\n",
       "      <td>2</td>\n",
       "      <td>3.0</td>\n",
       "    </tr>\n",
       "  </tbody>\n",
       "</table>\n",
       "</div>"
      ],
      "text/plain": [
       "   index   c0\n",
       "0      0  1.0\n",
       "1      1  2.0\n",
       "2      2  3.0"
      ]
     },
     "execution_count": 14,
     "metadata": {},
     "output_type": "execute_result"
    }
   ],
   "source": [
    "# use persist to keep tables between 2 request\n",
    "datas = (1 , 2 , 3 , 4, 5 )\n",
    "datas2 =(1, 2, 3, 4, 5, 6, 7)\n",
    "datas3 =(1, 2, 3,)\n",
    "\n",
    "bsqldf(\"PERSIST datas, datas2; select * from datas3$$\")"
   ]
  },
  {
   "cell_type": "code",
   "execution_count": 15,
   "metadata": {},
   "outputs": [
    {
     "data": {
      "text/html": [
       "<div>\n",
       "<style scoped>\n",
       "    .dataframe tbody tr th:only-of-type {\n",
       "        vertical-align: middle;\n",
       "    }\n",
       "\n",
       "    .dataframe tbody tr th {\n",
       "        vertical-align: top;\n",
       "    }\n",
       "\n",
       "    .dataframe thead th {\n",
       "        text-align: right;\n",
       "    }\n",
       "</style>\n",
       "<table border=\"1\" class=\"dataframe\">\n",
       "  <thead>\n",
       "    <tr style=\"text-align: right;\">\n",
       "      <th></th>\n",
       "      <th>type</th>\n",
       "      <th>name</th>\n",
       "      <th>tbl_name</th>\n",
       "      <th>rootpage</th>\n",
       "      <th>sql</th>\n",
       "    </tr>\n",
       "  </thead>\n",
       "  <tbody>\n",
       "    <tr>\n",
       "      <td>0</td>\n",
       "      <td>table</td>\n",
       "      <td>datas</td>\n",
       "      <td>datas</td>\n",
       "      <td>4</td>\n",
       "      <td>CREATE TABLE \"datas\" (\\n\"index\" INTEGER,\\n  \"c...</td>\n",
       "    </tr>\n",
       "    <tr>\n",
       "      <td>1</td>\n",
       "      <td>index</td>\n",
       "      <td>ix_datas_index</td>\n",
       "      <td>datas</td>\n",
       "      <td>5</td>\n",
       "      <td>CREATE INDEX \"ix_datas_index\"ON \"datas\" (\"index\")</td>\n",
       "    </tr>\n",
       "    <tr>\n",
       "      <td>2</td>\n",
       "      <td>table</td>\n",
       "      <td>datas2</td>\n",
       "      <td>datas2</td>\n",
       "      <td>7</td>\n",
       "      <td>CREATE TABLE \"datas2\" (\\n\"index\" INTEGER,\\n  \"...</td>\n",
       "    </tr>\n",
       "    <tr>\n",
       "      <td>3</td>\n",
       "      <td>index</td>\n",
       "      <td>ix_datas2_index</td>\n",
       "      <td>datas2</td>\n",
       "      <td>3</td>\n",
       "      <td>CREATE INDEX \"ix_datas2_index\"ON \"datas2\" (\"in...</td>\n",
       "    </tr>\n",
       "  </tbody>\n",
       "</table>\n",
       "</div>"
      ],
      "text/plain": [
       "    type             name tbl_name  rootpage  \\\n",
       "0  table            datas    datas         4   \n",
       "1  index   ix_datas_index    datas         5   \n",
       "2  table           datas2   datas2         7   \n",
       "3  index  ix_datas2_index   datas2         3   \n",
       "\n",
       "                                                 sql  \n",
       "0  CREATE TABLE \"datas\" (\\n\"index\" INTEGER,\\n  \"c...  \n",
       "1  CREATE INDEX \"ix_datas_index\"ON \"datas\" (\"index\")  \n",
       "2  CREATE TABLE \"datas2\" (\\n\"index\" INTEGER,\\n  \"...  \n",
       "3  CREATE INDEX \"ix_datas2_index\"ON \"datas2\" (\"in...  "
      ]
     },
     "execution_count": 15,
     "metadata": {},
     "output_type": "execute_result"
    }
   ],
   "source": [
    "bsqldf(\"select * from sqlite_master\")"
   ]
  },
  {
   "cell_type": "code",
   "execution_count": null,
   "metadata": {},
   "outputs": [],
   "source": []
  }
 ],
 "metadata": {
  "kernelspec": {
   "display_name": "Python 3",
   "language": "python",
   "name": "python3"
  },
  "language_info": {
   "codemirror_mode": {
    "name": "ipython",
    "version": 3
   },
   "file_extension": ".py",
   "mimetype": "text/x-python",
   "name": "python",
   "nbconvert_exporter": "python",
   "pygments_lexer": "ipython3",
   "version": "3.7.4"
  }
 },
 "nbformat": 4,
 "nbformat_minor": 4
}
